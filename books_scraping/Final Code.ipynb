{
 "cells": [
  {
   "cell_type": "markdown",
   "id": "61ce3fdd",
   "metadata": {},
   "source": [
    "# Books scraping\n",
    "<img src = 'goodreads.png'>"
   ]
  },
  {
   "cell_type": "markdown",
   "id": "3322849a",
   "metadata": {},
   "source": [
    "### Pick a website and describe your objective\n",
    "\n",
    "* Browse through different websites and pick on to scrape. Check the 'Project Ideas' section for inspiration\n",
    "* Summarize your project idea and outline your strategy in a jupyter notebook"
   ]
  },
  {
   "cell_type": "markdown",
   "id": "b2401a8f",
   "metadata": {},
   "source": [
    "#### Project Outline :\n",
    "\n",
    "* We're going to scrape https://www.goodreads.com/genres\n",
    "* For each category, we'll get the new releases\n",
    "* For each every release we will grab it's book information\n",
    " ```\n",
    " Author, Book name, Summary, Rating, Published year\n",
    " \n",
    " ```"
   ]
  },
  {
   "cell_type": "code",
   "execution_count": 1,
   "id": "e547df58",
   "metadata": {},
   "outputs": [],
   "source": [
    "# let's write a function to download the page\n",
    "import requests\n",
    "from bs4 import BeautifulSoup\n",
    "\n",
    "def get_genres_type():\n",
    "    # write the code for getting different genres\n",
    "    genres_url = 'https://www.goodreads.com/genres'\n",
    "    response = requests.get(genres_url)\n",
    "    if response.status_code != 200:\n",
    "        raise Exception ('Failed to Load page {}'.format(genres_url))\n",
    "    \n",
    "    doc = BeautifulSoup(response.text, 'html.parser')\n",
    "    return doc"
   ]
  },
  {
   "cell_type": "code",
   "execution_count": 2,
   "id": "cbecb12e",
   "metadata": {},
   "outputs": [],
   "source": [
    "doc = get_genres_type()"
   ]
  },
  {
   "cell_type": "code",
   "execution_count": 3,
   "id": "7683d193",
   "metadata": {},
   "outputs": [],
   "source": [
    "# let's create a helper functions to parse information from the page\n",
    "def get_genres_titles(doc):\n",
    "    selection_class = 'gr-hyperlink'\n",
    "    genres = doc.find_all('a',{'class': selection_class})\n",
    "    genres_title = []\n",
    "    for tag in genres:\n",
    "        genres_title.append(tag.text)\n",
    "\n",
    "    genres_title.remove('')\n",
    "    \n",
    "    return list(set(genres_title))"
   ]
  },
  {
   "cell_type": "code",
   "execution_count": 4,
   "id": "176d680e",
   "metadata": {},
   "outputs": [],
   "source": [
    "# get_genres_titles can be used to get list of titles"
   ]
  },
  {
   "cell_type": "code",
   "execution_count": 5,
   "id": "069243aa",
   "metadata": {},
   "outputs": [],
   "source": [
    "titles = get_genres_titles(doc)"
   ]
  },
  {
   "cell_type": "code",
   "execution_count": 6,
   "id": "7f7018b6",
   "metadata": {},
   "outputs": [
    {
     "data": {
      "text/plain": [
       "42"
      ]
     },
     "execution_count": 6,
     "metadata": {},
     "output_type": "execute_result"
    }
   ],
   "source": [
    "len(titles)"
   ]
  },
  {
   "cell_type": "code",
   "execution_count": 7,
   "id": "da7905c7",
   "metadata": {},
   "outputs": [
    {
     "data": {
      "text/plain": [
       "['Mystery', 'Fiction', 'Chick Lit', 'Religion', 'Biography']"
      ]
     },
     "execution_count": 7,
     "metadata": {},
     "output_type": "execute_result"
    }
   ],
   "source": [
    "titles[:5]"
   ]
  },
  {
   "cell_type": "code",
   "execution_count": 8,
   "id": "f8a93e86",
   "metadata": {},
   "outputs": [],
   "source": [
    "# create urls for new released for each category\n",
    "def get_genres_new_release_url(doc):\n",
    "    new_release_url = []\n",
    "    base_url = 'https://www.goodreads.com/genres/'\n",
    "    \n",
    "    selection_class = 'gr-hyperlink'\n",
    "    genres = doc.find_all('a',{'class': selection_class})\n",
    "    \n",
    "\n",
    "    for tag in genres:\n",
    "        new_release_url.append(base_url + 'new_releases/' + tag.text)\n",
    "        \n",
    "    new_release_url.remove('https://www.goodreads.com/genres/new_releases/')\n",
    "\n",
    "    return list(set(new_release_url))"
   ]
  },
  {
   "cell_type": "code",
   "execution_count": 9,
   "id": "1abdc7ff",
   "metadata": {},
   "outputs": [],
   "source": [
    "# save all urls inside url variable\n",
    "url = get_genres_new_release_url(doc)"
   ]
  },
  {
   "cell_type": "code",
   "execution_count": 34,
   "id": "e85e5547",
   "metadata": {},
   "outputs": [
    {
     "data": {
      "text/plain": [
       "['https://www.goodreads.com/genres/new_releases/Fantasy',\n",
       " 'https://www.goodreads.com/genres/new_releases/More Genres',\n",
       " 'https://www.goodreads.com/genres/new_releases/Sports',\n",
       " 'https://www.goodreads.com/genres/new_releases/Suspense',\n",
       " 'https://www.goodreads.com/genres/new_releases/History',\n",
       " 'https://www.goodreads.com/genres/new_releases/Philosophy',\n",
       " 'https://www.goodreads.com/genres/new_releases/Horror',\n",
       " 'https://www.goodreads.com/genres/new_releases/Travel',\n",
       " 'https://www.goodreads.com/genres/new_releases/Classics',\n",
       " 'https://www.goodreads.com/genres/new_releases/Fiction']"
      ]
     },
     "execution_count": 34,
     "metadata": {},
     "output_type": "execute_result"
    }
   ],
   "source": [
    "# First 10 urls\n",
    "url[:10]"
   ]
  },
  {
   "cell_type": "code",
   "execution_count": 11,
   "id": "666bbdfc",
   "metadata": {},
   "outputs": [],
   "source": [
    "# Parse through the new_released_url \n",
    "def get_genres_page(new_release_url):\n",
    "    # Download the page\n",
    "    response = requests.get(new_release_url)\n",
    "    # check successful response\n",
    "    if response.status_code != 200:\n",
    "        raise Exception('Failed to load page {}'.format(new_release_url))\n",
    "    \n",
    "    #parse using beautiful soup\n",
    "    genre_doc = BeautifulSoup(response.text, 'html.parser')\n",
    "    return genre_doc"
   ]
  },
  {
   "cell_type": "code",
   "execution_count": 12,
   "id": "e630265a",
   "metadata": {},
   "outputs": [],
   "source": [
    "# parse and save information inside genre_doc\n",
    "genre_doc = get_genres_page('https://www.goodreads.com/genres/new_releases/Sports')"
   ]
  },
  {
   "cell_type": "code",
   "execution_count": 13,
   "id": "ffda3157",
   "metadata": {},
   "outputs": [],
   "source": [
    "# find all books from all divs associated with that genre\n",
    "def get_each_book_link(genre_doc):\n",
    "    # use genre_doc variable inside which all information is saved\n",
    "    divs = genre_doc.find_all('div',{'class': 'coverWrapper'})\n",
    "    book_url = []\n",
    "    for i in range(len(divs)):\n",
    "        a_tags = divs[i].find_all('a')\n",
    "        book_url.append('https://www.goodreads.com' + a_tags[0]['href'])\n",
    "    return book_url"
   ]
  },
  {
   "cell_type": "code",
   "execution_count": 14,
   "id": "822fc30b",
   "metadata": {},
   "outputs": [],
   "source": [
    "# save all book link inside book url\n",
    "book_url = get_each_book_link(genre_doc)"
   ]
  },
  {
   "cell_type": "code",
   "execution_count": 15,
   "id": "852892b3",
   "metadata": {},
   "outputs": [
    {
     "data": {
      "text/plain": [
       "['https://www.goodreads.com/book/show/122495892-meet-your-match',\n",
       " 'https://www.goodreads.com/book/show/177138498-on-the-shore',\n",
       " 'https://www.goodreads.com/book/show/60619760-plays-well-with-others',\n",
       " 'https://www.goodreads.com/book/show/61851486-mine-to-take',\n",
       " 'https://www.goodreads.com/book/show/62927890-the-all-american',\n",
       " 'https://www.goodreads.com/book/show/63017290-the-fire-the-water-and-maudie-mcginn',\n",
       " 'https://www.goodreads.com/book/show/63249764-lexington',\n",
       " 'https://www.goodreads.com/book/show/62067439-forever-goals',\n",
       " 'https://www.goodreads.com/book/show/123249526-game-changer',\n",
       " 'https://www.goodreads.com/book/show/157354980-power-play',\n",
       " 'https://www.goodreads.com/book/show/173468176-embracing-fate',\n",
       " 'https://www.goodreads.com/book/show/160646938-25-blue-lock-25',\n",
       " 'https://www.goodreads.com/book/show/175067322-onside-play',\n",
       " 'https://www.goodreads.com/book/show/108518990-reckless',\n",
       " 'https://www.goodreads.com/book/show/174713026-behind-the-net',\n",
       " 'https://www.goodreads.com/book/show/123179008-done-and-dusted',\n",
       " 'https://www.goodreads.com/book/show/62874236-a-love-catastrophe',\n",
       " 'https://www.goodreads.com/book/show/153620279-fault-line',\n",
       " 'https://www.goodreads.com/book/show/62692859-girls-and-their-horses',\n",
       " 'https://www.goodreads.com/book/show/62699937-play-for-me',\n",
       " 'https://www.goodreads.com/book/show/124945529-return-policy',\n",
       " 'https://www.goodreads.com/book/show/151998373-when-it-all-syncs-up',\n",
       " 'https://www.goodreads.com/book/show/61947478-made-for-romeo',\n",
       " 'https://www.goodreads.com/book/show/143216870-swallow-your-pride',\n",
       " 'https://www.goodreads.com/book/show/61990749-hendrix',\n",
       " 'https://www.goodreads.com/book/show/179806871-weston',\n",
       " 'https://www.goodreads.com/book/show/167645479-lot-62',\n",
       " 'https://www.goodreads.com/book/show/160726189-duet-me-not',\n",
       " 'https://www.goodreads.com/book/show/62562867-slow-af-run-club',\n",
       " 'https://www.goodreads.com/book/show/125673312-friend-zoned',\n",
       " 'https://www.goodreads.com/book/show/172002322-long-shot',\n",
       " 'https://www.goodreads.com/book/show/170171787-the-husband-game',\n",
       " 'https://www.goodreads.com/book/show/142561768-lost-boy',\n",
       " 'https://www.goodreads.com/book/show/177139897-straight-dad',\n",
       " 'https://www.goodreads.com/book/show/147987909-the-star',\n",
       " 'https://www.goodreads.com/book/show/175687620-my-f-cked-up-paradise',\n",
       " 'https://www.goodreads.com/book/show/174059670-will-pucking-ledger',\n",
       " 'https://www.goodreads.com/book/show/152235479-just-my-puck',\n",
       " 'https://www.goodreads.com/book/show/172651896-billionaire-s-daughter-and-the-quarterback',\n",
       " 'https://www.goodreads.com/book/show/123480414-layton',\n",
       " 'https://www.goodreads.com/book/show/152322652-het-plan',\n",
       " 'https://www.goodreads.com/book/show/122994191-drive-to-feel-alive',\n",
       " 'https://www.goodreads.com/book/show/98180757-meeting-her-match']"
      ]
     },
     "execution_count": 15,
     "metadata": {},
     "output_type": "execute_result"
    }
   ],
   "source": [
    "book_url"
   ]
  },
  {
   "cell_type": "code",
   "execution_count": 21,
   "id": "9b038ae4",
   "metadata": {},
   "outputs": [
    {
     "data": {
      "text/plain": [
       "'https://www.goodreads.com/book/show/122495892-meet-your-match'"
      ]
     },
     "execution_count": 21,
     "metadata": {},
     "output_type": "execute_result"
    }
   ],
   "source": [
    "book_url[0]"
   ]
  },
  {
   "cell_type": "code",
   "execution_count": 22,
   "id": "dcaadf2c",
   "metadata": {},
   "outputs": [],
   "source": [
    "# parse through book url\n",
    "def get_book_page(book_url):\n",
    "    # Download the page\n",
    "    response = requests.get(book_url)\n",
    "    # check successful response\n",
    "    if response.status_code != 200:\n",
    "        raise Exception('Failed to load page {}'.format(book_url))\n",
    "    \n",
    "    #parse using beautiful soup\n",
    "    book_doc = BeautifulSoup(response.text, 'html.parser')\n",
    "    return book_doc"
   ]
  },
  {
   "cell_type": "code",
   "execution_count": 39,
   "id": "b78ad19a",
   "metadata": {},
   "outputs": [],
   "source": [
    "# parse and save the information of the given book inside book_doc\n",
    "book_doc = get_book_page('https://www.goodreads.com/book/show/122495892-meet-your-match')"
   ]
  },
  {
   "cell_type": "code",
   "execution_count": 45,
   "id": "cdab124c",
   "metadata": {},
   "outputs": [],
   "source": [
    "# Get all information of the book from book doc in which all information is been saved.\n",
    "def get_book_info(book_doc):\n",
    "    big_div = book_doc.find_all('div',{'class': 'BookPage__mainContent'})\n",
    "    a_tags = big_div[0].find_all('a')\n",
    "    div_tags = big_div[0].find_all('div')\n",
    "    span_tags = big_div[0].find_all('span')\n",
    "    h1_tags = big_div[0].find_all('h1')\n",
    "    p_tags = big_div[0].find_all('p')\n",
    "    published_year = p_tags[1].text\n",
    "    book_title = h1_tags[0].text\n",
    "    authorName = span_tags[1].text\n",
    "    Rating = div_tags[8].text\n",
    "    Summary = span_tags[20].text\n",
    "    return authorName, book_title, Summary, Rating, published_year"
   ]
  },
  {
   "cell_type": "code",
   "execution_count": 46,
   "id": "432e3db8",
   "metadata": {},
   "outputs": [
    {
     "data": {
      "text/plain": [
       "('Kandi Steiner',\n",
       " 'Meet Your Match',\n",
       " 'One Month with Vince Tanev: Tampa’s Hotshot RookieTwenty-four-seven access on and off the ice.The headline says it all, and my bosses are over the moon when the opportunity of a lifetime lands in my lap. Of course, they aren’t aware that I’ve already met Vince Cool at an all-star gala — and that we were at each other’s throats the entire time.It doesn’t matter that he’s the kind of hot that shows God has favorites — messy brown hair, heated hazel eyes, the smirk of a rockstar, and a scar over his eyebrow that makes every woman particularly feral.He’s a rich, cocky playboy — a brand I’m all too familiar with, and one I’m determined to never be around again.But after my coverage of the gala stirs up buzz, the team’s General Manager and my CEO strike a deal. To help fill the arena at home games, I’ll get up close and personal with Tampa’s new shiny toy. Whether he’s at practice, playing in a game, partying, or drinking coffee half-naked in his condo — I’ll be there for all of it.Vince gets under my skin like no one else. It isn’t long before that paper-thin line between hate and lust blurs, and being around him every waking minute of the day leaves no chance to escape his devilish stare.The air crackles between us. The tension is hot enough to melt my inhibitions.But I know the way this story ends. I’ve lived it once before.As much as I work to guard my heart, my body is a traitor — and if this man puts his hands on me, I know I’ll submit to desire.I thought one month with Vince Tanev was a game I could win easily.But I might have just met my match.',\n",
       " '4.09',\n",
       " 'First published July 7, 2023')"
      ]
     },
     "execution_count": 46,
     "metadata": {},
     "output_type": "execute_result"
    }
   ],
   "source": [
    "# meet-your-match book information\n",
    "get_book_info(book_doc)"
   ]
  },
  {
   "cell_type": "code",
   "execution_count": 31,
   "id": "7998db89",
   "metadata": {},
   "outputs": [
    {
     "data": {
      "text/plain": [
       "('Meagan Brandy, Amo Jones',\n",
       " 'Fate of a Royal',\n",
       " '',\n",
       " '4.17',\n",
       " 'First published July 7, 2023')"
      ]
     },
     "execution_count": 31,
     "metadata": {},
     "output_type": "execute_result"
    }
   ],
   "source": [
    "# book --> fate-of-a-royal, genre --> sports\n",
    "book_doc2 = get_book_page('https://www.goodreads.com/book/show/185358293-fate-of-a-royal')\n",
    "\n",
    "get_book_info(book_doc2)"
   ]
  },
  {
   "cell_type": "code",
   "execution_count": 27,
   "id": "c2cdea96",
   "metadata": {},
   "outputs": [
    {
     "data": {
      "text/plain": [
       "('M.J. Fields',\n",
       " 'Long Shot: Lincoln U- Ice Hockey',\n",
       " \"Ellie Before my junior year at Lincoln University, I promised myself three things. Just three. When Professor Taylor posted our chem midterm p artners and I got stuck with the captain of Lincoln’s Ice Hockey team , I was sure I’d be able to abide by rules 2 and 3. After all, I was immune to Leo’s whole ‘hottest guy on campus’ thing. I grew up with him— my brother’s best friend . That I’ve been obsessed with since I was eight. F' me. Leo Senior year. Captain of the hockey team , already engaged to the NHL with the perfect union months away, my whole life mapped out ahead of me. All my dreams have come true. Except for the one with Eleanor Rhodes. That one’s reoccurring, starring her in nothing but my number and that perfect little blush that shows up every time she looks at me. No biggie. I’ve worked that one out. In the shower. Numerous times. Never had a reason to get any closer than her Instagram until Professor Taylor assigned us as chem partners. The one girl on campus who shouldn’t be on my radar, yet she somehow seems to be the only one.\",\n",
       " '3.93',\n",
       " 'First published June 4, 2023')"
      ]
     },
     "execution_count": 27,
     "metadata": {},
     "output_type": "execute_result"
    }
   ],
   "source": [
    "# book --> long-shot, genre --> sports\n",
    "book_doc2 = get_book_page('https://www.goodreads.com/book/show/172002322-long-shot')\n",
    "\n",
    "get_book_info(book_doc2)"
   ]
  },
  {
   "cell_type": "code",
   "execution_count": 30,
   "id": "d02fc23f",
   "metadata": {},
   "outputs": [
    {
     "data": {
      "text/plain": [
       "('Elsie Silver',\n",
       " 'Reckless',\n",
       " 'Theo Silva. Rowdy bull rider. Notorious ladies’ man. Scorching hot trouble wrapped up in a drool-worthy package.And he’s looking at me like I might be his next meal.But I’m almost free of my toxic marriage and have sworn off men entirely. So all I see when I look back is temptation served up with a heaping side of heartbreak.The man is hard to trust—and even harder to resist.Make that impossible. Because Theo is persistent. And no matter how hard I try to freeze him out, he melts my icy exterior and pulls apart all my defenses.Over a drink in a small town bar, I blurt out my deepest, darkest secrets. Then I spend the singular hottest night of my life with him.He worships my body. He makes me blush. I come alive beneath his hands.Then I tell him to forget it ever happened. I want simple, and with him it all feels complicated.It was supposed to be a one-time thing.A secret.But that little plus sign is going to make this secret impossible to keep.',\n",
       " '4.45',\n",
       " 'First published June 9, 2023')"
      ]
     },
     "execution_count": 30,
     "metadata": {},
     "output_type": "execute_result"
    }
   ],
   "source": [
    "# book --> reckless, genre --> sports\n",
    "book_doc2 = get_book_page('https://www.goodreads.com/book/show/108518990-reckless')\n",
    "\n",
    "get_book_info(book_doc2)"
   ]
  },
  {
   "cell_type": "code",
   "execution_count": 33,
   "id": "6c5e54ca",
   "metadata": {},
   "outputs": [
    {
     "data": {
      "text/plain": [
       "('B. Dylan Hollis',\n",
       " 'Baking Yesteryear: The Best Recipes from the 1900s to the 1980s',\n",
       " 'GenresCookbooksNonfictionCookingFoodHistoryHumorFoodie',\n",
       " '4.75',\n",
       " 'First published July 25, 2023')"
      ]
     },
     "execution_count": 33,
     "metadata": {},
     "output_type": "execute_result"
    }
   ],
   "source": [
    "# select the genre :- history parse through it\n",
    "genre_doc = get_genres_page('https://www.goodreads.com/genres/new_releases/History')\n",
    "# get all book links associated with history :- new released \n",
    "book_url = get_each_book_link(genre_doc)\n",
    "# Select first book link from the list parse through it\n",
    "book_doc = get_book_page(book_url[0])\n",
    "# get the book information\n",
    "get_book_info(book_doc)\n"
   ]
  },
  {
   "cell_type": "code",
   "execution_count": 36,
   "id": "ff6289b4",
   "metadata": {},
   "outputs": [
    {
     "data": {
      "text/plain": [
       "('Karen M. McManus',\n",
       " 'One of Us Is Back',\n",
       " \"From international bestseller, Karen McManus, comes the explosive third and final thrilling instalment in the acclaimed One of Us... series. Ever since Simon died in detention, life hasn't been easy for the Bayview Crew. First the Bayview Four had to prove they weren't killers. Then a new generation had to outwit a vengeful copycat. Now, it's beginning again. At first the mysterious billboard seems like a bad joke: Time for a new game, Bayview. But when a member of the crew disappears, it's clear this 'game' just got serious - and no one understands the rules.Everyone's a target. And now that someone unexpected has returned to Bayview, things are starting to get deadly. Simon was right about secrets - they all come out in the end.  The thing is, Simon was right about secrets-they all come out, eventually. And Bayview has a lot it's still hiding.\",\n",
       " '4.16',\n",
       " 'First published July 25, 2023')"
      ]
     },
     "execution_count": 36,
     "metadata": {},
     "output_type": "execute_result"
    }
   ],
   "source": [
    "# select the genre :- history parse through it\n",
    "genre_doc = get_genres_page('https://www.goodreads.com/genres/new_releases/Horror')\n",
    "# get all book links associated with history :- new released \n",
    "book_url = get_each_book_link(genre_doc)\n",
    "# Select first book link from the list parse through it\n",
    "book_doc = get_book_page(book_url[0])\n",
    "# get the book information\n",
    "get_book_info(book_doc)"
   ]
  },
  {
   "cell_type": "markdown",
   "id": "360eb3c4",
   "metadata": {},
   "source": [
    "### Let's See first 10 books from horror genre\n"
   ]
  },
  {
   "cell_type": "code",
   "execution_count": 51,
   "id": "712a887d",
   "metadata": {},
   "outputs": [
    {
     "name": "stdout",
     "output_type": "stream",
     "text": [
      "['https://www.goodreads.com/book/show/57932307-one-of-us-is-back', 'https://www.goodreads.com/book/show/61796642-the-militia-house', 'https://www.goodreads.com/book/show/63066025-doomsday-match', 'https://www.goodreads.com/book/show/61884783-boys-in-the-valley', 'https://www.goodreads.com/book/show/62858184-burn-the-negative', 'https://www.goodreads.com/book/show/62919378-at-the-end-of-every-day', 'https://www.goodreads.com/book/show/62049709-the-possibilities', 'https://www.goodreads.com/book/show/61317666-a-guide-to-the-dark', 'https://www.goodreads.com/book/show/62919225-infested', 'https://www.goodreads.com/book/show/62997448-magdalena']\n"
     ]
    }
   ],
   "source": [
    "# select the genre :- history parse through it\n",
    "genre_doc = get_genres_page('https://www.goodreads.com/genres/new_releases/Horror')\n",
    "# get all book links associated with history :- new released \n",
    "book_url = get_each_book_link(genre_doc)\n",
    "\n",
    "# print first 10 books links\n",
    "print(book_url[:10])"
   ]
  },
  {
   "cell_type": "code",
   "execution_count": 52,
   "id": "39164139",
   "metadata": {},
   "outputs": [
    {
     "data": {
      "text/plain": [
       "('Meriam Metoui',\n",
       " 'A Guide to the Dark',\n",
       " \"You can check out of Room 9, but you can never leave.The Haunting of Hill House meets Nina LaCour in this paranormal mystery YA about the ghosts we carry with us.Something is building, simmering just out of reach.The room is watching. But Mira and Layla don't know this yet. When the two best friends are stranded on their spring break college tour road trip, they find themselves at the Wildwood Motel, located in the middle of nowhere, Indiana. Mira can't shake the feeling that there is something wrong and rotten about their room. Inside, she's haunted by nightmares of her dead brother. When she wakes up, he's still there.Layla doesn't see him. Or notice anything suspicious about Room 9. The place may be a little run down, but it has a certain charm she can’t wait to capture on camera. If Layla is being honest, she’s too preoccupied with confusing feelings for Mira to see much else. But when they learn eight people died in that same room, they realize there must be a connection between the deaths and the unexplainable things that keep happening inside it. They just have to find the connection before Mira becomes the ninth.Readers won't be able to put down this tender thriller that includes over thirty interior black and white photos by the author!\",\n",
       " '3.73',\n",
       " 'First published July 18, 2023')"
      ]
     },
     "execution_count": 52,
     "metadata": {},
     "output_type": "execute_result"
    }
   ],
   "source": [
    "# Select book link from the list parse through it :-'a-guide-to-the-dark'\n",
    "book_doc = get_book_page('https://www.goodreads.com/book/show/61317666-a-guide-to-the-dark')\n",
    "# get the book information\n",
    "get_book_info(book_doc)"
   ]
  },
  {
   "cell_type": "markdown",
   "id": "2b34b278",
   "metadata": {},
   "source": [
    "## References and Future Work\n",
    "\n",
    "Summary of what we did\n",
    "\n",
    "- First we scrape all genre from the website - https://www.goodreads.com/\n",
    "- Then we add these genres to new_released link - https://www.goodreads.com/new_releases\n",
    "- parse through a particular genre\n",
    "- took all book links associated to that genre\n",
    "- parse through a particular book\n",
    "- took all informaton like:\n",
    "\n",
    "    ```\n",
    "    AuthorName, Book Title, Summary, Rating, Published year\n",
    "    ```\n",
    "    \n",
    "\n",
    "\n",
    "References to links you found useful\n",
    "\n",
    "- Jovian from where I learned basics of web scraping:- https://jovian.com/aakashns/python-web-scraping-project-guide\n",
    "\n",
    "\n",
    " \n",
    "Ideas for future work\n",
    "\n",
    "- Automation for each category\n",
    "- saving the all books info from a particular category into CSV format"
   ]
  },
  {
   "cell_type": "code",
   "execution_count": null,
   "id": "5bf8abbd",
   "metadata": {},
   "outputs": [],
   "source": []
  }
 ],
 "metadata": {
  "kernelspec": {
   "display_name": "Python 3 (ipykernel)",
   "language": "python",
   "name": "python3"
  },
  "language_info": {
   "codemirror_mode": {
    "name": "ipython",
    "version": 3
   },
   "file_extension": ".py",
   "mimetype": "text/x-python",
   "name": "python",
   "nbconvert_exporter": "python",
   "pygments_lexer": "ipython3",
   "version": "3.9.13"
  }
 },
 "nbformat": 4,
 "nbformat_minor": 5
}

{
 "cells": [
  {
   "cell_type": "markdown",
   "id": "4dc2dda4",
   "metadata": {},
   "source": [
    "# Books scraping"
   ]
  },
  {
   "cell_type": "markdown",
   "id": "257ef30b",
   "metadata": {},
   "source": [
    "### Day 1"
   ]
  },
  {
   "cell_type": "markdown",
   "id": "95656015",
   "metadata": {},
   "source": [
    "### Pick a website and describe your objective\n",
    "\n",
    "* Browse through different websites and pick on to scrape. Check the 'Project Ideas' section for inspiration\n",
    "* Summarize your project idea and outline your strategy in a jupyter notebook"
   ]
  },
  {
   "cell_type": "markdown",
   "id": "7c38f7e1",
   "metadata": {},
   "source": [
    "#### Project Outline :\n",
    "\n",
    "* We're going to scrape https://www.goodreads.com/genres\n",
    "* WE're going get the books information by each category\n",
    "* For each category, we'll get the new releases\n",
    "* For each every release we will grab it's category\n",
    "* Every Released book we'll create a CSV File in the format:\n",
    "\n",
    " ```\n",
    " Author, Book name, Summary, Rating, Published year\n",
    " \n",
    " ```"
   ]
  },
  {
   "cell_type": "markdown",
   "id": "356cb5bb",
   "metadata": {},
   "source": [
    "### Use the Requests Library to download web pages"
   ]
  },
  {
   "cell_type": "code",
   "execution_count": 156,
   "id": "caacb1a3",
   "metadata": {},
   "outputs": [],
   "source": [
    "# Import Request library\n",
    "import requests"
   ]
  },
  {
   "cell_type": "code",
   "execution_count": 157,
   "id": "6fcde96c",
   "metadata": {},
   "outputs": [],
   "source": [
    "Category_url =  'https://www.goodreads.com/genres'"
   ]
  },
  {
   "cell_type": "code",
   "execution_count": 158,
   "id": "5b9b1fd0",
   "metadata": {},
   "outputs": [],
   "source": [
    "response = requests.get(Category_url)"
   ]
  },
  {
   "cell_type": "code",
   "execution_count": 159,
   "id": "d7da5e99",
   "metadata": {},
   "outputs": [
    {
     "data": {
      "text/plain": [
       "200"
      ]
     },
     "execution_count": 159,
     "metadata": {},
     "output_type": "execute_result"
    }
   ],
   "source": [
    "response.status_code"
   ]
  },
  {
   "cell_type": "code",
   "execution_count": 160,
   "id": "ec93f8e8",
   "metadata": {},
   "outputs": [
    {
     "data": {
      "text/plain": [
       "153107"
      ]
     },
     "execution_count": 160,
     "metadata": {},
     "output_type": "execute_result"
    }
   ],
   "source": [
    "len(response.text)"
   ]
  },
  {
   "cell_type": "code",
   "execution_count": 161,
   "id": "11a09402",
   "metadata": {},
   "outputs": [],
   "source": [
    "page_content = response.text"
   ]
  },
  {
   "cell_type": "code",
   "execution_count": 162,
   "id": "9cb9a71f",
   "metadata": {},
   "outputs": [
    {
     "data": {
      "text/plain": [
       "'<!DOCTYPE html>\\n<html class=\"desktop withSiteHeaderTopFullImage\\n\">\\n<head>\\n  <title>Genres</title>\\n\\n<meta content=\"Genres on Goodreads. Art, Biography, Business, Chick-lit, Children\\'s, Christian, Classics, Comics, Contemporary, Cookbooks, Crime, Ebooks, Fantasy, Ficti...\" name=\\'description\\'>\\n<meta content=\\'telephone=no\\' name=\\'format-detection\\'>\\n\\n\\n\\n  \\n  <!-- * Copied from https://info.analytics.a2z.com/#/docs/data_collection/csa/onboard */ -->\\n<script>\\n  //<![CDATA[\\n    !function(){function n(n,t){var r=i(n);return t&&(r=r(\"instance\",t)),r}var r=[],c=0,i=function(t){return function(){var n=c++;return r.push([t,[].slice.call(arguments,0),n,{time:Date.now()}]),i(n)}};n._s=r,this.csa=n}();\\n    \\n    if (window.csa) {\\n      window.csa(\"Config\", {\\n        \"Application\": \"GoodreadsMonolith\",\\n        \"Events.SushiEndpoint\": \"https://unagi.amazon.com/1/events/com.amazon.csm.csa.prod\",\\n        \"Events.Namespace\": \"csa\",\\n        \"CacheDetection.RequestID\": \"KKYT9FF59YBBB0SRW6XZ\",\\n        \"Obfuscate'"
      ]
     },
     "execution_count": 162,
     "metadata": {},
     "output_type": "execute_result"
    }
   ],
   "source": [
    "page_content[:1000]"
   ]
  },
  {
   "cell_type": "markdown",
   "id": "c25e1756",
   "metadata": {},
   "source": [
    "### Use Beautiful Soup to parse and extract information"
   ]
  },
  {
   "cell_type": "code",
   "execution_count": 163,
   "id": "83c0460f",
   "metadata": {},
   "outputs": [],
   "source": [
    "from bs4 import BeautifulSoup"
   ]
  },
  {
   "cell_type": "code",
   "execution_count": 164,
   "id": "5aea537b",
   "metadata": {},
   "outputs": [],
   "source": [
    "doc = BeautifulSoup(page_content, 'html.parser')"
   ]
  },
  {
   "cell_type": "code",
   "execution_count": 165,
   "id": "706efc88",
   "metadata": {},
   "outputs": [],
   "source": [
    "category = doc.find_all('a',{'class': 'gr-hyperlink'})"
   ]
  },
  {
   "cell_type": "code",
   "execution_count": 166,
   "id": "fc5f8498",
   "metadata": {},
   "outputs": [
    {
     "data": {
      "text/plain": [
       "102"
      ]
     },
     "execution_count": 166,
     "metadata": {},
     "output_type": "execute_result"
    }
   ],
   "source": [
    "len(category)"
   ]
  },
  {
   "cell_type": "code",
   "execution_count": 167,
   "id": "a2589429",
   "metadata": {},
   "outputs": [
    {
     "data": {
      "text/plain": [
       "[<a class=\"genreList__genreLink gr-hyperlink gr-hyperlink--naked\" data-reactid=\".22kmc46csq0.1.0.2.0.2.0.1.0.1.0.1:$genreList0.0:$Art.0\" href=\"/genres/art\">Art</a>,\n",
       " <a class=\"genreList__genreLink gr-hyperlink gr-hyperlink--naked\" data-reactid=\".22kmc46csq0.1.0.2.0.2.0.1.0.1.0.1:$genreList0.0:$Biography.0\" href=\"/genres/biography\">Biography</a>,\n",
       " <a class=\"genreList__genreLink gr-hyperlink gr-hyperlink--naked\" data-reactid=\".22kmc46csq0.1.0.2.0.2.0.1.0.1.0.1:$genreList0.0:$Business.0\" href=\"/genres/business\">Business</a>,\n",
       " <a class=\"genreList__genreLink gr-hyperlink gr-hyperlink--naked\" data-reactid=\".22kmc46csq0.1.0.2.0.2.0.1.0.1.0.1:$genreList0.0:$Children's.0\" href=\"/genres/children-s\">Children's</a>,\n",
       " <a class=\"genreList__genreLink gr-hyperlink gr-hyperlink--naked\" data-reactid=\".22kmc46csq0.1.0.2.0.2.0.1.0.1.0.1:$genreList0.0:$Christian.0\" href=\"/genres/christian\">Christian</a>]"
      ]
     },
     "execution_count": 167,
     "metadata": {},
     "output_type": "execute_result"
    }
   ],
   "source": [
    "category[:5]"
   ]
  },
  {
   "cell_type": "code",
   "execution_count": 168,
   "id": "7358de69",
   "metadata": {},
   "outputs": [
    {
     "data": {
      "text/plain": [
       "'Art'"
      ]
     },
     "execution_count": 168,
     "metadata": {},
     "output_type": "execute_result"
    }
   ],
   "source": [
    "category[0].text"
   ]
  },
  {
   "cell_type": "code",
   "execution_count": 169,
   "id": "4315dc8b",
   "metadata": {},
   "outputs": [
    {
     "name": "stdout",
     "output_type": "stream",
     "text": [
      "https://www.goodreads.com/genres/Biography\n"
     ]
    }
   ],
   "source": [
    "# let's see a how can we attach these categories in the url\n",
    "cat0_url = 'https://www.goodreads.com/genres/' + category[1].text\n",
    "print(cat0_url)"
   ]
  },
  {
   "cell_type": "code",
   "execution_count": 170,
   "id": "7797e7e7",
   "metadata": {},
   "outputs": [
    {
     "name": "stdout",
     "output_type": "stream",
     "text": [
      "['Art', 'Biography', 'Business', \"Children's\", 'Christian', 'Classics', 'Comics', 'Cookbooks', 'Ebooks', 'Fantasy', 'Fiction', 'Graphic Novels', 'Historical Fiction', 'History', 'Horror', 'Memoir', 'Music', 'Mystery', 'Nonfiction', 'Poetry', 'Psychology', 'Romance', 'Science', 'Science Fiction', 'Self Help', 'Sports', 'Thriller', 'Travel', 'Young Adult', 'More Genres', '', 'View profile', 'Art', 'Biography', 'Business', \"Children's\", 'Christian', 'Classics', 'Comics', 'Cookbooks', 'Ebooks', 'Fantasy', 'Fiction', 'Graphic Novels', 'Historical Fiction', 'History', 'Horror', 'Memoir', 'Music', 'Mystery', 'Nonfiction', 'Poetry', 'Psychology', 'Romance', 'Science', 'Science Fiction', 'Self Help', 'Sports', 'Thriller', 'Travel', 'Young Adult', 'More Genres', 'Art', 'Biography', 'Business', 'Chick Lit', \"Children's\", 'Christian', 'Classics', 'Comics', 'Contemporary', 'Cookbooks', 'Crime', 'Ebooks', 'Fantasy', 'Fiction', 'Gay and Lesbian', 'Graphic Novels', 'Historical Fiction', 'History', 'Horror', 'Humor and Comedy', 'Manga', 'Memoir', 'Music', 'Mystery', 'Nonfiction', 'Paranormal', 'Philosophy', 'Poetry', 'Psychology', 'Religion', 'Romance', 'Science', 'Science Fiction', 'Self Help', 'Suspense', 'Spirituality', 'Sports', 'Thriller', 'Travel', 'Young Adult']\n"
     ]
    }
   ],
   "source": [
    "category_title = []\n",
    "for tag in category:\n",
    "    category_title.append(tag.text)\n",
    "\n",
    "print(category_title)"
   ]
  },
  {
   "cell_type": "code",
   "execution_count": 171,
   "id": "11080d48",
   "metadata": {},
   "outputs": [
    {
     "name": "stdout",
     "output_type": "stream",
     "text": [
      "['https://www.goodreads.com/genres/Art', 'https://www.goodreads.com/genres/Biography', 'https://www.goodreads.com/genres/Business', \"https://www.goodreads.com/genres/Children's\", 'https://www.goodreads.com/genres/Christian', 'https://www.goodreads.com/genres/Classics', 'https://www.goodreads.com/genres/Comics', 'https://www.goodreads.com/genres/Cookbooks', 'https://www.goodreads.com/genres/Ebooks', 'https://www.goodreads.com/genres/Fantasy', 'https://www.goodreads.com/genres/Fiction', 'https://www.goodreads.com/genres/Graphic Novels', 'https://www.goodreads.com/genres/Historical Fiction', 'https://www.goodreads.com/genres/History', 'https://www.goodreads.com/genres/Horror', 'https://www.goodreads.com/genres/Memoir', 'https://www.goodreads.com/genres/Music', 'https://www.goodreads.com/genres/Mystery', 'https://www.goodreads.com/genres/Nonfiction', 'https://www.goodreads.com/genres/Poetry', 'https://www.goodreads.com/genres/Psychology', 'https://www.goodreads.com/genres/Romance', 'https://www.goodreads.com/genres/Science', 'https://www.goodreads.com/genres/Science Fiction', 'https://www.goodreads.com/genres/Self Help', 'https://www.goodreads.com/genres/Sports', 'https://www.goodreads.com/genres/Thriller', 'https://www.goodreads.com/genres/Travel', 'https://www.goodreads.com/genres/Young Adult', 'https://www.goodreads.com/genres/More Genres', 'https://www.goodreads.com/genres/', 'https://www.goodreads.com/genres/View profile', 'https://www.goodreads.com/genres/Art', 'https://www.goodreads.com/genres/Biography', 'https://www.goodreads.com/genres/Business', \"https://www.goodreads.com/genres/Children's\", 'https://www.goodreads.com/genres/Christian', 'https://www.goodreads.com/genres/Classics', 'https://www.goodreads.com/genres/Comics', 'https://www.goodreads.com/genres/Cookbooks', 'https://www.goodreads.com/genres/Ebooks', 'https://www.goodreads.com/genres/Fantasy', 'https://www.goodreads.com/genres/Fiction', 'https://www.goodreads.com/genres/Graphic Novels', 'https://www.goodreads.com/genres/Historical Fiction', 'https://www.goodreads.com/genres/History', 'https://www.goodreads.com/genres/Horror', 'https://www.goodreads.com/genres/Memoir', 'https://www.goodreads.com/genres/Music', 'https://www.goodreads.com/genres/Mystery', 'https://www.goodreads.com/genres/Nonfiction', 'https://www.goodreads.com/genres/Poetry', 'https://www.goodreads.com/genres/Psychology', 'https://www.goodreads.com/genres/Romance', 'https://www.goodreads.com/genres/Science', 'https://www.goodreads.com/genres/Science Fiction', 'https://www.goodreads.com/genres/Self Help', 'https://www.goodreads.com/genres/Sports', 'https://www.goodreads.com/genres/Thriller', 'https://www.goodreads.com/genres/Travel', 'https://www.goodreads.com/genres/Young Adult', 'https://www.goodreads.com/genres/More Genres', 'https://www.goodreads.com/genres/Art', 'https://www.goodreads.com/genres/Biography', 'https://www.goodreads.com/genres/Business', 'https://www.goodreads.com/genres/Chick Lit', \"https://www.goodreads.com/genres/Children's\", 'https://www.goodreads.com/genres/Christian', 'https://www.goodreads.com/genres/Classics', 'https://www.goodreads.com/genres/Comics', 'https://www.goodreads.com/genres/Contemporary', 'https://www.goodreads.com/genres/Cookbooks', 'https://www.goodreads.com/genres/Crime', 'https://www.goodreads.com/genres/Ebooks', 'https://www.goodreads.com/genres/Fantasy', 'https://www.goodreads.com/genres/Fiction', 'https://www.goodreads.com/genres/Gay and Lesbian', 'https://www.goodreads.com/genres/Graphic Novels', 'https://www.goodreads.com/genres/Historical Fiction', 'https://www.goodreads.com/genres/History', 'https://www.goodreads.com/genres/Horror', 'https://www.goodreads.com/genres/Humor and Comedy', 'https://www.goodreads.com/genres/Manga', 'https://www.goodreads.com/genres/Memoir', 'https://www.goodreads.com/genres/Music', 'https://www.goodreads.com/genres/Mystery', 'https://www.goodreads.com/genres/Nonfiction', 'https://www.goodreads.com/genres/Paranormal', 'https://www.goodreads.com/genres/Philosophy', 'https://www.goodreads.com/genres/Poetry', 'https://www.goodreads.com/genres/Psychology', 'https://www.goodreads.com/genres/Religion', 'https://www.goodreads.com/genres/Romance', 'https://www.goodreads.com/genres/Science', 'https://www.goodreads.com/genres/Science Fiction', 'https://www.goodreads.com/genres/Self Help', 'https://www.goodreads.com/genres/Suspense', 'https://www.goodreads.com/genres/Spirituality', 'https://www.goodreads.com/genres/Sports', 'https://www.goodreads.com/genres/Thriller', 'https://www.goodreads.com/genres/Travel', 'https://www.goodreads.com/genres/Young Adult']\n"
     ]
    }
   ],
   "source": [
    "category_url = []\n",
    "base_url = 'https://www.goodreads.com/genres/'\n",
    "\n",
    "for tag in category:\n",
    "    category_url.append(base_url + tag.text)\n",
    "    \n",
    "print(category_url)"
   ]
  },
  {
   "cell_type": "markdown",
   "id": "1848304b",
   "metadata": {},
   "source": [
    "In the above code we can see there are lost of noise i.e. many of the link are duplicates which are not useful for us so we will remove them by extracting unique links using `set()`"
   ]
  },
  {
   "cell_type": "code",
   "execution_count": 172,
   "id": "26e86de3",
   "metadata": {},
   "outputs": [],
   "source": [
    " unique_url = set(category_url)"
   ]
  },
  {
   "cell_type": "code",
   "execution_count": 173,
   "id": "8a297359",
   "metadata": {},
   "outputs": [
    {
     "data": {
      "text/plain": [
       "'https://www.goodreads.com/genres/Young Adult'"
      ]
     },
     "execution_count": 173,
     "metadata": {},
     "output_type": "execute_result"
    }
   ],
   "source": [
    "list(unique_url).pop(-5)"
   ]
  },
  {
   "cell_type": "code",
   "execution_count": 174,
   "id": "70034d9e",
   "metadata": {},
   "outputs": [],
   "source": [
    "unique_url = list(unique_url)"
   ]
  },
  {
   "cell_type": "code",
   "execution_count": 175,
   "id": "69336cec",
   "metadata": {},
   "outputs": [
    {
     "data": {
      "text/plain": [
       "['https://www.goodreads.com/genres/Horror',\n",
       " 'https://www.goodreads.com/genres/Christian',\n",
       " 'https://www.goodreads.com/genres/Self Help',\n",
       " 'https://www.goodreads.com/genres/Paranormal',\n",
       " 'https://www.goodreads.com/genres/Psychology',\n",
       " 'https://www.goodreads.com/genres/View profile',\n",
       " 'https://www.goodreads.com/genres/Cookbooks',\n",
       " 'https://www.goodreads.com/genres/Ebooks',\n",
       " 'https://www.goodreads.com/genres/',\n",
       " 'https://www.goodreads.com/genres/Suspense',\n",
       " \"https://www.goodreads.com/genres/Children's\",\n",
       " 'https://www.goodreads.com/genres/Science',\n",
       " 'https://www.goodreads.com/genres/Biography',\n",
       " 'https://www.goodreads.com/genres/Chick Lit',\n",
       " 'https://www.goodreads.com/genres/Historical Fiction',\n",
       " 'https://www.goodreads.com/genres/Crime',\n",
       " 'https://www.goodreads.com/genres/Nonfiction',\n",
       " 'https://www.goodreads.com/genres/Memoir',\n",
       " 'https://www.goodreads.com/genres/Romance',\n",
       " 'https://www.goodreads.com/genres/Music',\n",
       " 'https://www.goodreads.com/genres/Fiction',\n",
       " 'https://www.goodreads.com/genres/Manga',\n",
       " 'https://www.goodreads.com/genres/Mystery',\n",
       " 'https://www.goodreads.com/genres/Thriller',\n",
       " 'https://www.goodreads.com/genres/Graphic Novels',\n",
       " 'https://www.goodreads.com/genres/Gay and Lesbian',\n",
       " 'https://www.goodreads.com/genres/Classics',\n",
       " 'https://www.goodreads.com/genres/Humor and Comedy',\n",
       " 'https://www.goodreads.com/genres/Fantasy',\n",
       " 'https://www.goodreads.com/genres/Religion',\n",
       " 'https://www.goodreads.com/genres/Sports',\n",
       " 'https://www.goodreads.com/genres/Poetry',\n",
       " 'https://www.goodreads.com/genres/Philosophy',\n",
       " 'https://www.goodreads.com/genres/Contemporary',\n",
       " 'https://www.goodreads.com/genres/Travel',\n",
       " 'https://www.goodreads.com/genres/Comics',\n",
       " 'https://www.goodreads.com/genres/More Genres',\n",
       " 'https://www.goodreads.com/genres/Business',\n",
       " 'https://www.goodreads.com/genres/Young Adult',\n",
       " 'https://www.goodreads.com/genres/Science Fiction',\n",
       " 'https://www.goodreads.com/genres/Spirituality',\n",
       " 'https://www.goodreads.com/genres/History',\n",
       " 'https://www.goodreads.com/genres/Art']"
      ]
     },
     "execution_count": 175,
     "metadata": {},
     "output_type": "execute_result"
    }
   ],
   "source": [
    "unique_url"
   ]
  },
  {
   "cell_type": "markdown",
   "id": "385492e8",
   "metadata": {},
   "source": [
    "'https://www.goodreads.com/genres/' this link is useless so we will remove this link too."
   ]
  },
  {
   "cell_type": "code",
   "execution_count": 176,
   "id": "28f7dc96",
   "metadata": {},
   "outputs": [],
   "source": [
    "unique_url.remove('https://www.goodreads.com/genres/')"
   ]
  },
  {
   "cell_type": "code",
   "execution_count": 177,
   "id": "3e77b740",
   "metadata": {},
   "outputs": [
    {
     "data": {
      "text/plain": [
       "['https://www.goodreads.com/genres/Horror',\n",
       " 'https://www.goodreads.com/genres/Christian',\n",
       " 'https://www.goodreads.com/genres/Self Help',\n",
       " 'https://www.goodreads.com/genres/Paranormal',\n",
       " 'https://www.goodreads.com/genres/Psychology',\n",
       " 'https://www.goodreads.com/genres/View profile',\n",
       " 'https://www.goodreads.com/genres/Cookbooks',\n",
       " 'https://www.goodreads.com/genres/Ebooks',\n",
       " 'https://www.goodreads.com/genres/Suspense',\n",
       " \"https://www.goodreads.com/genres/Children's\",\n",
       " 'https://www.goodreads.com/genres/Science',\n",
       " 'https://www.goodreads.com/genres/Biography',\n",
       " 'https://www.goodreads.com/genres/Chick Lit',\n",
       " 'https://www.goodreads.com/genres/Historical Fiction',\n",
       " 'https://www.goodreads.com/genres/Crime',\n",
       " 'https://www.goodreads.com/genres/Nonfiction',\n",
       " 'https://www.goodreads.com/genres/Memoir',\n",
       " 'https://www.goodreads.com/genres/Romance',\n",
       " 'https://www.goodreads.com/genres/Music',\n",
       " 'https://www.goodreads.com/genres/Fiction',\n",
       " 'https://www.goodreads.com/genres/Manga',\n",
       " 'https://www.goodreads.com/genres/Mystery',\n",
       " 'https://www.goodreads.com/genres/Thriller',\n",
       " 'https://www.goodreads.com/genres/Graphic Novels',\n",
       " 'https://www.goodreads.com/genres/Gay and Lesbian',\n",
       " 'https://www.goodreads.com/genres/Classics',\n",
       " 'https://www.goodreads.com/genres/Humor and Comedy',\n",
       " 'https://www.goodreads.com/genres/Fantasy',\n",
       " 'https://www.goodreads.com/genres/Religion',\n",
       " 'https://www.goodreads.com/genres/Sports',\n",
       " 'https://www.goodreads.com/genres/Poetry',\n",
       " 'https://www.goodreads.com/genres/Philosophy',\n",
       " 'https://www.goodreads.com/genres/Contemporary',\n",
       " 'https://www.goodreads.com/genres/Travel',\n",
       " 'https://www.goodreads.com/genres/Comics',\n",
       " 'https://www.goodreads.com/genres/More Genres',\n",
       " 'https://www.goodreads.com/genres/Business',\n",
       " 'https://www.goodreads.com/genres/Young Adult',\n",
       " 'https://www.goodreads.com/genres/Science Fiction',\n",
       " 'https://www.goodreads.com/genres/Spirituality',\n",
       " 'https://www.goodreads.com/genres/History',\n",
       " 'https://www.goodreads.com/genres/Art']"
      ]
     },
     "execution_count": 177,
     "metadata": {},
     "output_type": "execute_result"
    }
   ],
   "source": [
    "unique_url"
   ]
  },
  {
   "cell_type": "markdown",
   "id": "4793e61e",
   "metadata": {},
   "source": [
    "All right we are set with our url's now it's time make a CSV file for them using pandas"
   ]
  },
  {
   "cell_type": "code",
   "execution_count": 178,
   "id": "7f376eb7",
   "metadata": {},
   "outputs": [],
   "source": [
    "# import pandas\n",
    "import pandas as pd"
   ]
  },
  {
   "cell_type": "code",
   "execution_count": 179,
   "id": "a2fff5ad",
   "metadata": {},
   "outputs": [],
   "source": [
    "# make a dict to get the data\n",
    "category_dict = {\n",
    "    'category': category_title,\n",
    "    'Url' : category_url\n",
    "}"
   ]
  },
  {
   "cell_type": "code",
   "execution_count": 180,
   "id": "541f6d00",
   "metadata": {},
   "outputs": [],
   "source": [
    "category_df = pd.DataFrame(category_dict)"
   ]
  },
  {
   "cell_type": "code",
   "execution_count": 181,
   "id": "500b5157",
   "metadata": {},
   "outputs": [
    {
     "data": {
      "text/html": [
       "<div>\n",
       "<style scoped>\n",
       "    .dataframe tbody tr th:only-of-type {\n",
       "        vertical-align: middle;\n",
       "    }\n",
       "\n",
       "    .dataframe tbody tr th {\n",
       "        vertical-align: top;\n",
       "    }\n",
       "\n",
       "    .dataframe thead th {\n",
       "        text-align: right;\n",
       "    }\n",
       "</style>\n",
       "<table border=\"1\" class=\"dataframe\">\n",
       "  <thead>\n",
       "    <tr style=\"text-align: right;\">\n",
       "      <th></th>\n",
       "      <th>category</th>\n",
       "      <th>Url</th>\n",
       "    </tr>\n",
       "  </thead>\n",
       "  <tbody>\n",
       "    <tr>\n",
       "      <th>0</th>\n",
       "      <td>Art</td>\n",
       "      <td>https://www.goodreads.com/genres/Art</td>\n",
       "    </tr>\n",
       "    <tr>\n",
       "      <th>1</th>\n",
       "      <td>Biography</td>\n",
       "      <td>https://www.goodreads.com/genres/Biography</td>\n",
       "    </tr>\n",
       "    <tr>\n",
       "      <th>2</th>\n",
       "      <td>Business</td>\n",
       "      <td>https://www.goodreads.com/genres/Business</td>\n",
       "    </tr>\n",
       "    <tr>\n",
       "      <th>3</th>\n",
       "      <td>Children's</td>\n",
       "      <td>https://www.goodreads.com/genres/Children's</td>\n",
       "    </tr>\n",
       "    <tr>\n",
       "      <th>4</th>\n",
       "      <td>Christian</td>\n",
       "      <td>https://www.goodreads.com/genres/Christian</td>\n",
       "    </tr>\n",
       "    <tr>\n",
       "      <th>...</th>\n",
       "      <td>...</td>\n",
       "      <td>...</td>\n",
       "    </tr>\n",
       "    <tr>\n",
       "      <th>97</th>\n",
       "      <td>Spirituality</td>\n",
       "      <td>https://www.goodreads.com/genres/Spirituality</td>\n",
       "    </tr>\n",
       "    <tr>\n",
       "      <th>98</th>\n",
       "      <td>Sports</td>\n",
       "      <td>https://www.goodreads.com/genres/Sports</td>\n",
       "    </tr>\n",
       "    <tr>\n",
       "      <th>99</th>\n",
       "      <td>Thriller</td>\n",
       "      <td>https://www.goodreads.com/genres/Thriller</td>\n",
       "    </tr>\n",
       "    <tr>\n",
       "      <th>100</th>\n",
       "      <td>Travel</td>\n",
       "      <td>https://www.goodreads.com/genres/Travel</td>\n",
       "    </tr>\n",
       "    <tr>\n",
       "      <th>101</th>\n",
       "      <td>Young Adult</td>\n",
       "      <td>https://www.goodreads.com/genres/Young Adult</td>\n",
       "    </tr>\n",
       "  </tbody>\n",
       "</table>\n",
       "<p>102 rows × 2 columns</p>\n",
       "</div>"
      ],
      "text/plain": [
       "         category                                            Url\n",
       "0             Art           https://www.goodreads.com/genres/Art\n",
       "1       Biography     https://www.goodreads.com/genres/Biography\n",
       "2        Business      https://www.goodreads.com/genres/Business\n",
       "3      Children's    https://www.goodreads.com/genres/Children's\n",
       "4       Christian     https://www.goodreads.com/genres/Christian\n",
       "..            ...                                            ...\n",
       "97   Spirituality  https://www.goodreads.com/genres/Spirituality\n",
       "98         Sports        https://www.goodreads.com/genres/Sports\n",
       "99       Thriller      https://www.goodreads.com/genres/Thriller\n",
       "100        Travel        https://www.goodreads.com/genres/Travel\n",
       "101   Young Adult   https://www.goodreads.com/genres/Young Adult\n",
       "\n",
       "[102 rows x 2 columns]"
      ]
     },
     "execution_count": 181,
     "metadata": {},
     "output_type": "execute_result"
    }
   ],
   "source": [
    "category_df"
   ]
  },
  {
   "cell_type": "code",
   "execution_count": 182,
   "id": "91e8791f",
   "metadata": {},
   "outputs": [],
   "source": [
    "# save this csv file\n",
    "category_df.to_csv('Category.csv',index=False)"
   ]
  },
  {
   "cell_type": "markdown",
   "id": "bd987c90",
   "metadata": {},
   "source": [
    "### Getting information out of a category page"
   ]
  },
  {
   "cell_type": "code",
   "execution_count": 183,
   "id": "292113b8",
   "metadata": {},
   "outputs": [],
   "source": [
    "new_release_url = []\n",
    "base_url = 'https://www.goodreads.com/genres/'\n",
    "\n",
    "for tag in category:\n",
    "    new_release_url.append(base_url + 'new_releases/' + tag.text)\n",
    "    \n",
    "new_release_url = list(set(new_release_url))\n",
    "new_release_url.remove('https://www.goodreads.com/genres/new_releases/')"
   ]
  },
  {
   "cell_type": "code",
   "execution_count": 184,
   "id": "ecdfac9c",
   "metadata": {},
   "outputs": [
    {
     "data": {
      "text/plain": [
       "['https://www.goodreads.com/genres/new_releases/Suspense',\n",
       " 'https://www.goodreads.com/genres/new_releases/Horror',\n",
       " 'https://www.goodreads.com/genres/new_releases/Psychology',\n",
       " 'https://www.goodreads.com/genres/new_releases/Romance',\n",
       " 'https://www.goodreads.com/genres/new_releases/Mystery',\n",
       " 'https://www.goodreads.com/genres/new_releases/Thriller',\n",
       " 'https://www.goodreads.com/genres/new_releases/Biography',\n",
       " 'https://www.goodreads.com/genres/new_releases/Young Adult',\n",
       " 'https://www.goodreads.com/genres/new_releases/Paranormal',\n",
       " 'https://www.goodreads.com/genres/new_releases/Religion',\n",
       " 'https://www.goodreads.com/genres/new_releases/Crime',\n",
       " 'https://www.goodreads.com/genres/new_releases/Business',\n",
       " 'https://www.goodreads.com/genres/new_releases/Philosophy',\n",
       " 'https://www.goodreads.com/genres/new_releases/Art',\n",
       " 'https://www.goodreads.com/genres/new_releases/Poetry',\n",
       " 'https://www.goodreads.com/genres/new_releases/View profile',\n",
       " 'https://www.goodreads.com/genres/new_releases/Manga',\n",
       " 'https://www.goodreads.com/genres/new_releases/Sports',\n",
       " 'https://www.goodreads.com/genres/new_releases/Memoir',\n",
       " 'https://www.goodreads.com/genres/new_releases/Gay and Lesbian',\n",
       " 'https://www.goodreads.com/genres/new_releases/Historical Fiction',\n",
       " 'https://www.goodreads.com/genres/new_releases/Science',\n",
       " 'https://www.goodreads.com/genres/new_releases/Chick Lit',\n",
       " 'https://www.goodreads.com/genres/new_releases/Self Help',\n",
       " 'https://www.goodreads.com/genres/new_releases/Fantasy',\n",
       " 'https://www.goodreads.com/genres/new_releases/Science Fiction',\n",
       " 'https://www.goodreads.com/genres/new_releases/Nonfiction',\n",
       " 'https://www.goodreads.com/genres/new_releases/Humor and Comedy',\n",
       " 'https://www.goodreads.com/genres/new_releases/Fiction',\n",
       " 'https://www.goodreads.com/genres/new_releases/Music',\n",
       " 'https://www.goodreads.com/genres/new_releases/Travel',\n",
       " 'https://www.goodreads.com/genres/new_releases/Graphic Novels',\n",
       " 'https://www.goodreads.com/genres/new_releases/More Genres',\n",
       " 'https://www.goodreads.com/genres/new_releases/Contemporary',\n",
       " 'https://www.goodreads.com/genres/new_releases/History',\n",
       " 'https://www.goodreads.com/genres/new_releases/Ebooks',\n",
       " 'https://www.goodreads.com/genres/new_releases/Comics',\n",
       " 'https://www.goodreads.com/genres/new_releases/Christian',\n",
       " 'https://www.goodreads.com/genres/new_releases/Classics',\n",
       " 'https://www.goodreads.com/genres/new_releases/Spirituality',\n",
       " 'https://www.goodreads.com/genres/new_releases/Cookbooks',\n",
       " \"https://www.goodreads.com/genres/new_releases/Children's\"]"
      ]
     },
     "execution_count": 184,
     "metadata": {},
     "output_type": "execute_result"
    }
   ],
   "source": [
    "new_release_url"
   ]
  },
  {
   "cell_type": "code",
   "execution_count": 185,
   "id": "634d404e",
   "metadata": {},
   "outputs": [],
   "source": [
    "topic_page_url = new_release_url[1]"
   ]
  },
  {
   "cell_type": "code",
   "execution_count": 186,
   "id": "d5ce5331",
   "metadata": {},
   "outputs": [
    {
     "data": {
      "text/plain": [
       "'https://www.goodreads.com/genres/new_releases/Horror'"
      ]
     },
     "execution_count": 186,
     "metadata": {},
     "output_type": "execute_result"
    }
   ],
   "source": [
    "topic_page_url"
   ]
  },
  {
   "cell_type": "code",
   "execution_count": 187,
   "id": "c6d8681f",
   "metadata": {},
   "outputs": [],
   "source": [
    "response = requests.get(topic_page_url)"
   ]
  },
  {
   "cell_type": "code",
   "execution_count": 188,
   "id": "cda1617d",
   "metadata": {},
   "outputs": [
    {
     "data": {
      "text/plain": [
       "200"
      ]
     },
     "execution_count": 188,
     "metadata": {},
     "output_type": "execute_result"
    }
   ],
   "source": [
    "response.status_code"
   ]
  },
  {
   "cell_type": "code",
   "execution_count": 189,
   "id": "8bcc3fe5",
   "metadata": {},
   "outputs": [
    {
     "data": {
      "text/plain": [
       "511820"
      ]
     },
     "execution_count": 189,
     "metadata": {},
     "output_type": "execute_result"
    }
   ],
   "source": [
    "len(response.text)"
   ]
  },
  {
   "cell_type": "code",
   "execution_count": 190,
   "id": "ff4b73b5",
   "metadata": {},
   "outputs": [],
   "source": [
    "books_doc = BeautifulSoup(response.text, 'html.parser')"
   ]
  },
  {
   "cell_type": "code",
   "execution_count": 191,
   "id": "e49eb098",
   "metadata": {},
   "outputs": [],
   "source": [
    "divs = books_doc.find_all('div',{'class': 'coverWrapper'})"
   ]
  },
  {
   "cell_type": "code",
   "execution_count": 192,
   "id": "4bd7c7b1",
   "metadata": {},
   "outputs": [],
   "source": [
    "a_tags = divs[1].find_all('a')"
   ]
  },
  {
   "cell_type": "code",
   "execution_count": 193,
   "id": "0926f27f",
   "metadata": {},
   "outputs": [
    {
     "data": {
      "text/plain": [
       "'/book/show/61796642-the-militia-house'"
      ]
     },
     "execution_count": 193,
     "metadata": {},
     "output_type": "execute_result"
    }
   ],
   "source": [
    "a_tags[0]['href']"
   ]
  },
  {
   "cell_type": "code",
   "execution_count": 194,
   "id": "1f0b95b7",
   "metadata": {},
   "outputs": [
    {
     "name": "stdout",
     "output_type": "stream",
     "text": [
      "https://www.goodreads.com/book/show/61796642-the-militia-house\n"
     ]
    }
   ],
   "source": [
    "base_url = 'https://www.goodreads.com'\n",
    "book_url = base_url + a_tags[0]['href']\n",
    "print(book_url)"
   ]
  },
  {
   "cell_type": "code",
   "execution_count": 211,
   "id": "f0c71c7d",
   "metadata": {},
   "outputs": [],
   "source": [
    "book_info_url = 'https://www.goodreads.com/book/show/62334530-none-of-this-is-true'"
   ]
  },
  {
   "cell_type": "code",
   "execution_count": 212,
   "id": "d3560fc2",
   "metadata": {},
   "outputs": [],
   "source": [
    "response = requests.get(book_info_url)"
   ]
  },
  {
   "cell_type": "code",
   "execution_count": 213,
   "id": "585c21a4",
   "metadata": {},
   "outputs": [
    {
     "data": {
      "text/plain": [
       "200"
      ]
     },
     "execution_count": 213,
     "metadata": {},
     "output_type": "execute_result"
    }
   ],
   "source": [
    "response.status_code"
   ]
  },
  {
   "cell_type": "code",
   "execution_count": 214,
   "id": "cb99dde6",
   "metadata": {},
   "outputs": [
    {
     "data": {
      "text/plain": [
       "623304"
      ]
     },
     "execution_count": 214,
     "metadata": {},
     "output_type": "execute_result"
    }
   ],
   "source": [
    "len(response.text)"
   ]
  },
  {
   "cell_type": "code",
   "execution_count": 215,
   "id": "adf59043",
   "metadata": {},
   "outputs": [],
   "source": [
    "content = response.text"
   ]
  },
  {
   "cell_type": "code",
   "execution_count": 216,
   "id": "f8481133",
   "metadata": {},
   "outputs": [],
   "source": [
    "main_content = BeautifulSoup(content, 'html.parser')"
   ]
  },
  {
   "cell_type": "code",
   "execution_count": 217,
   "id": "8ed557e0",
   "metadata": {},
   "outputs": [],
   "source": [
    "big_div = main_content.find_all('div',{'class': 'BookPage__mainContent'})"
   ]
  },
  {
   "cell_type": "code",
   "execution_count": 218,
   "id": "00b6a499",
   "metadata": {},
   "outputs": [],
   "source": [
    "a_tags = big_div[0].find_all('a')"
   ]
  },
  {
   "cell_type": "code",
   "execution_count": 219,
   "id": "556a7d9c",
   "metadata": {},
   "outputs": [],
   "source": [
    "div_tags = big_div[0].find_all('div')"
   ]
  },
  {
   "cell_type": "code",
   "execution_count": 220,
   "id": "e28636ef",
   "metadata": {},
   "outputs": [],
   "source": [
    "span_tags = big_div[0].find_all('span')"
   ]
  },
  {
   "cell_type": "code",
   "execution_count": 221,
   "id": "5991405a",
   "metadata": {},
   "outputs": [],
   "source": [
    "h1_tags = big_div[0].find_all('h1')"
   ]
  },
  {
   "cell_type": "code",
   "execution_count": 222,
   "id": "4dfec60f",
   "metadata": {},
   "outputs": [
    {
     "data": {
      "text/plain": [
       "'None of This Is True'"
      ]
     },
     "execution_count": 222,
     "metadata": {},
     "output_type": "execute_result"
    }
   ],
   "source": [
    "# Book title\n",
    "h1_tags[0].text"
   ]
  },
  {
   "cell_type": "code",
   "execution_count": 227,
   "id": "4f9060a2",
   "metadata": {},
   "outputs": [
    {
     "data": {
      "text/plain": [
       "'Lisa Jewell'"
      ]
     },
     "execution_count": 227,
     "metadata": {},
     "output_type": "execute_result"
    }
   ],
   "source": [
    "# author name\n",
    "span_tags[1].text"
   ]
  },
  {
   "cell_type": "code",
   "execution_count": 224,
   "id": "b55ed5d4",
   "metadata": {},
   "outputs": [
    {
     "data": {
      "text/plain": [
       "'4.42'"
      ]
     },
     "execution_count": 224,
     "metadata": {},
     "output_type": "execute_result"
    }
   ],
   "source": [
    "# Rating\n",
    "div_tags[8].text"
   ]
  },
  {
   "cell_type": "code",
   "execution_count": 258,
   "id": "0c0fc332",
   "metadata": {},
   "outputs": [
    {
     "data": {
      "text/plain": [
       "'4,871\\xa0ratings1,953\\xa0reviews'"
      ]
     },
     "execution_count": 258,
     "metadata": {},
     "output_type": "execute_result"
    }
   ],
   "source": [
    "div_tags[11].text"
   ]
  },
  {
   "cell_type": "code",
   "execution_count": 245,
   "id": "b3d8b61c",
   "metadata": {},
   "outputs": [
    {
     "data": {
      "text/plain": [
       "'Lisa Jewell returns with a scintillating new psychological thriller about a woman who finds herself the subject of her own popular true crime podcast.Celebrating her forty-fifth birthday at her local pub, popular podcaster Alix Summers crosses paths with an unassuming woman called Josie Fair. Josie, it turns out, is also celebrating her forty-fifth birthday. They are, in fact, birthday twins.A few days later, Alix and Josie bump into each other again, this time outside Alix’s children’s school. Josie has been listening to Alix’s podcasts and thinks she might be an interesting subject for her series. She is, she tells Alix, on the cusp of great changes in her life.Josie’s life appears to be strange and complicated, and although Alix finds her unsettling, she can’t quite resist the temptation to keep making the podcast. Slowly she starts to realise that Josie has been hiding some very dark secrets, and before she knows it, Josie has inveigled her way into Alix’s life—and into her home.But, as quickly as she arrived, Josie disappears. Only then does Alix discover that Josie has left a terrible and terrifying legacy in her wake, and that Alix has become the subject of her own true crime podcast, with her life and her family’s lives under mortal threat.Who is Josie Fair? And what has she done?'"
      ]
     },
     "execution_count": 245,
     "metadata": {},
     "output_type": "execute_result"
    }
   ],
   "source": [
    "# Summary\n",
    "span_tags[20].text"
   ]
  },
  {
   "cell_type": "markdown",
   "id": "ca52b77b",
   "metadata": {},
   "source": [
    "### Day 2"
   ]
  },
  {
   "cell_type": "code",
   "execution_count": null,
   "id": "1066ac2b",
   "metadata": {},
   "outputs": [],
   "source": [
    "# publish year\n",
    "p_tags = big_div[0].find_all('p')"
   ]
  },
  {
   "cell_type": "code",
   "execution_count": null,
   "id": "482916fb",
   "metadata": {},
   "outputs": [],
   "source": [
    "p_tags[1].text"
   ]
  },
  {
   "cell_type": "code",
   "execution_count": null,
   "id": "c9bd5dfd",
   "metadata": {},
   "outputs": [],
   "source": [
    "# make a function to get all information\n",
    "def get_book_info(big_div):\n",
    "    a_tags = big_div[0].find_all('a')\n",
    "    div_tags = big_div[0].find_all('div')\n",
    "    span_tags = big_div[0].find_all('span')\n",
    "    h1_tags = big_div[0].find_all('h1')\n",
    "    p_tags = big_div[0].find_all('p')\n",
    "    published_year = p_tags[1].text\n",
    "    book_title = h1_tags[0].text\n",
    "    authorName = a_tags[0].text\n",
    "    Rating = div_tags[8].text\n",
    "    Summary = span_tags[20].text\n",
    "    return authorName, book_title, Summary, Rating, published_year"
   ]
  },
  {
   "cell_type": "code",
   "execution_count": null,
   "id": "e574682a",
   "metadata": {},
   "outputs": [],
   "source": [
    "get_book_info(big_div)"
   ]
  },
  {
   "cell_type": "code",
   "execution_count": null,
   "id": "3b32b1ef",
   "metadata": {},
   "outputs": [],
   "source": []
  }
 ],
 "metadata": {
  "kernelspec": {
   "display_name": "Python 3 (ipykernel)",
   "language": "python",
   "name": "python3"
  },
  "language_info": {
   "codemirror_mode": {
    "name": "ipython",
    "version": 3
   },
   "file_extension": ".py",
   "mimetype": "text/x-python",
   "name": "python",
   "nbconvert_exporter": "python",
   "pygments_lexer": "ipython3",
   "version": "3.9.13"
  }
 },
 "nbformat": 4,
 "nbformat_minor": 5
}
